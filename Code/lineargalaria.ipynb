{
 "cells": [
  {
   "cell_type": "code",
   "execution_count": 1,
   "metadata": {
    "colab": {
     "base_uri": "https://localhost:8080/"
    },
    "id": "UQPb5Bu0Cjww",
    "outputId": "5c6797cb-d585-4cc3-c18d-09598ed39859"
   },
   "outputs": [],
   "source": [
    "from sklearn.datasets import load_boston\n",
    "import numpy as np\n",
    "import pandas as pd \n",
    "import scipy as sp \n",
    "import scipy.stats as stats\n",
    "import statsmodels.api as sm \n",
    "from statsmodels.formula.api import ols \n",
    "from sklearn.model_selection import train_test_split\n",
    "from sklearn.metrics import mean_squared_error, r2_score, mean_absolute_error \n",
    "import seaborn as sns \n",
    "import matplotlib.pyplot as plt\n",
    "import matplotlib.font_manager as fm \n",
    "\n",
    "plt.rc('font', family='Malgun Gothic')"
   ]
  },
  {
   "cell_type": "code",
   "execution_count": 2,
   "metadata": {
    "colab": {
     "base_uri": "https://localhost:8080/"
    },
    "id": "GYI8QgcjDwg-",
    "outputId": "6e58bfc2-8f28-4b5d-b222-d5415a6438a0"
   },
   "outputs": [],
   "source": [
    "data = pd.read_csv('서울날씨.csv')\n",
    "data1 = pd.read_csv('천안날씨.csv')\n",
    "data2 = pd.read_csv('의정부날씨.csv')\n",
    "data3 = pd.read_csv('busanweather.csv')\n",
    "data4 = pd.read_csv('천안날씨.csv')\n",
    "\n",
    "df = pd.read_csv('ssg강남target.csv',encoding='cp949')"
   ]
  },
  {
   "cell_type": "code",
   "execution_count": 3,
   "metadata": {
    "colab": {
     "base_uri": "https://localhost:8080/"
    },
    "id": "4H9UzZPEEWMo",
    "outputId": "517c9254-32be-4fbe-8630-7cf64a3c7942"
   },
   "outputs": [
    {
     "name": "stdout",
     "output_type": "stream",
     "text": [
      "      day  avgtemp  hightemp  avgrain  avgwind  avghum\n",
      "0   43467     -4.9       0.2      106      1.7    42.8\n",
      "1   43468     -3.5       3.2       98      1.4    38.8\n",
      "2   43469     -1.1       4.1      131      1.2    55.5\n",
      "3   43470     -2.8       1.1      109      2.2    40.3\n",
      "4   43471     -2.8       2.7       78      1.2    35.0\n",
      "..    ...      ...       ...      ...      ...     ...\n",
      "77  43547      3.3       8.2       64      2.4    46.9\n",
      "78  43548      4.3       9.7       42      2.3    45.4\n",
      "79  43549      7.3      11.5        0      2.0    56.1\n",
      "80  43550     11.4      17.6        0      2.0    51.1\n",
      "81  43551     11.6      16.2        0      3.0    66.4\n",
      "\n",
      "[82 rows x 6 columns]\n"
     ]
    }
   ],
   "source": [
    "print(data)"
   ]
  },
  {
   "cell_type": "code",
   "execution_count": 81,
   "metadata": {
    "id": "MyacREXvErRW"
   },
   "outputs": [],
   "source": [
    "ㅣ=['day','클래식 본','클래식 Mini 본','종이 쇼핑백','Mini 초코본','카라멜 피칸 Mini 본','카라멜 피칸 본','버라이어티(4개)','클래식바이츠(4개)','바이츠팩(버라이어티)','(3)더블피칸미니팩']\n",
    "X = pd.DataFrame(data1, columns=['day','avgtemp','hightemp','avgrain','avgwind','avghum'])\n",
    "Y = pd.DataFrame(df, columns=['핑크본'])\n",
    "#a = pd.DataFrame(df, columns=['MC4 클래식 미니팩'])\n",
    "#b = pd.DataFrame(df, columns=['베리 버라이어티 팩'])\n",
    "#c = pd.DataFrame(df, columns=['핑크 버라이어티 팩'])\n",
    "#d = pd.DataFrame(df, columns=['베리 본'])\n",
    "#e = pd.DataFrame(df, columns=['핑크본'])\n",
    "X=X.fillna(0)\n",
    "Y=Y.fillna(0)\n",
    "#a=a.fillna(0)\n",
    "#b=b.fillna(0)\n",
    "#c=c.fillna(0)\n",
    "#d=d.fillna(0)\n",
    "#e=e.fillna(0)"
   ]
  },
  {
   "cell_type": "code",
   "execution_count": 82,
   "metadata": {
    "colab": {
     "base_uri": "https://localhost:8080/",
     "height": 419
    },
    "id": "cme47-KiE9tV",
    "outputId": "039bfa05-9d21-454a-dd57-1f3b016dee19"
   },
   "outputs": [
    {
     "name": "stdout",
     "output_type": "stream",
     "text": [
      "<class 'pandas.core.frame.DataFrame'>\n",
      "RangeIndex: 86 entries, 0 to 85\n",
      "Data columns (total 6 columns):\n",
      " #   Column    Non-Null Count  Dtype  \n",
      "---  ------    --------------  -----  \n",
      " 0   day       86 non-null     int64  \n",
      " 1   avgtemp   86 non-null     float64\n",
      " 2   hightemp  86 non-null     float64\n",
      " 3   avgrain   86 non-null     float64\n",
      " 4   avgwind   86 non-null     float64\n",
      " 5   avghum    86 non-null     float64\n",
      "dtypes: float64(5), int64(1)\n",
      "memory usage: 4.2 KB\n"
     ]
    }
   ],
   "source": [
    "X.info()"
   ]
  },
  {
   "cell_type": "code",
   "execution_count": 83,
   "metadata": {
    "colab": {
     "base_uri": "https://localhost:8080/",
     "height": 204
    },
    "id": "Ckfi3Lv8FCWX",
    "outputId": "cab5e270-68c2-4a51-81ba-141eefab9531"
   },
   "outputs": [
    {
     "data": {
      "text/html": [
       "<div>\n",
       "<style scoped>\n",
       "    .dataframe tbody tr th:only-of-type {\n",
       "        vertical-align: middle;\n",
       "    }\n",
       "\n",
       "    .dataframe tbody tr th {\n",
       "        vertical-align: top;\n",
       "    }\n",
       "\n",
       "    .dataframe thead th {\n",
       "        text-align: right;\n",
       "    }\n",
       "</style>\n",
       "<table border=\"1\" class=\"dataframe\">\n",
       "  <thead>\n",
       "    <tr style=\"text-align: right;\">\n",
       "      <th></th>\n",
       "      <th>핑크본</th>\n",
       "    </tr>\n",
       "  </thead>\n",
       "  <tbody>\n",
       "    <tr>\n",
       "      <th>0</th>\n",
       "      <td>0.0</td>\n",
       "    </tr>\n",
       "    <tr>\n",
       "      <th>1</th>\n",
       "      <td>0.0</td>\n",
       "    </tr>\n",
       "    <tr>\n",
       "      <th>2</th>\n",
       "      <td>0.0</td>\n",
       "    </tr>\n",
       "    <tr>\n",
       "      <th>3</th>\n",
       "      <td>0.0</td>\n",
       "    </tr>\n",
       "    <tr>\n",
       "      <th>4</th>\n",
       "      <td>0.0</td>\n",
       "    </tr>\n",
       "    <tr>\n",
       "      <th>...</th>\n",
       "      <td>...</td>\n",
       "    </tr>\n",
       "    <tr>\n",
       "      <th>81</th>\n",
       "      <td>2.0</td>\n",
       "    </tr>\n",
       "    <tr>\n",
       "      <th>82</th>\n",
       "      <td>0.0</td>\n",
       "    </tr>\n",
       "    <tr>\n",
       "      <th>83</th>\n",
       "      <td>0.0</td>\n",
       "    </tr>\n",
       "    <tr>\n",
       "      <th>84</th>\n",
       "      <td>0.0</td>\n",
       "    </tr>\n",
       "    <tr>\n",
       "      <th>85</th>\n",
       "      <td>1.0</td>\n",
       "    </tr>\n",
       "  </tbody>\n",
       "</table>\n",
       "<p>86 rows × 1 columns</p>\n",
       "</div>"
      ],
      "text/plain": [
       "    핑크본\n",
       "0   0.0\n",
       "1   0.0\n",
       "2   0.0\n",
       "3   0.0\n",
       "4   0.0\n",
       "..  ...\n",
       "81  2.0\n",
       "82  0.0\n",
       "83  0.0\n",
       "84  0.0\n",
       "85  1.0\n",
       "\n",
       "[86 rows x 1 columns]"
      ]
     },
     "execution_count": 83,
     "metadata": {},
     "output_type": "execute_result"
    }
   ],
   "source": [
    "Y"
   ]
  },
  {
   "cell_type": "code",
   "execution_count": 84,
   "metadata": {
    "id": "xcl8qfWJFPTz"
   },
   "outputs": [],
   "source": [
    "X_train, X_test, Y_train, Y_test = train_test_split(X, Y, test_size=0.3, random_state=2021)"
   ]
  },
  {
   "cell_type": "code",
   "execution_count": 85,
   "metadata": {
    "id": "OqoUPAuIFgF0"
   },
   "outputs": [
    {
     "name": "stderr",
     "output_type": "stream",
     "text": [
      "/usr/local/anaconda3/lib/python3.8/site-packages/statsmodels/tsa/tsatools.py:142: FutureWarning: In a future version of pandas all arguments of concat except for the argument 'objs' will be keyword-only\n",
      "  x = pd.concat(x[::order], 1)\n"
     ]
    }
   ],
   "source": [
    "X_train = sm.add_constant(X_train)\n",
    "model = sm.OLS(Y_train, X_train, axis=1)\n",
    "model_trained= model.fit()"
   ]
  },
  {
   "cell_type": "code",
   "execution_count": 86,
   "metadata": {
    "colab": {
     "base_uri": "https://localhost:8080/",
     "height": 764
    },
    "id": "LeMRKbamGI1h",
    "outputId": "350565c1-0ed4-48da-8ac2-25535ee0b629"
   },
   "outputs": [
    {
     "name": "stderr",
     "output_type": "stream",
     "text": [
      "/usr/local/anaconda3/lib/python3.8/site-packages/statsmodels/graphics/gofplots.py:993: UserWarning: marker is redundantly defined by the 'marker' keyword argument and the fmt string \"bo\" (-> marker='o'). The keyword argument will take precedence.\n",
      "  ax.plot(x, y, fmt, **plot_style)\n",
      "/usr/local/anaconda3/lib/python3.8/site-packages/statsmodels/graphics/gofplots.py:993: UserWarning: color is redundantly defined by the 'color' keyword argument and the fmt string \"bo\" (-> color='b'). The keyword argument will take precedence.\n",
      "  ax.plot(x, y, fmt, **plot_style)\n"
     ]
    },
    {
     "data": {
      "image/png": "[encoded data removed]",
      "text/plain": [
       "<Figure size 864x864 with 1 Axes>"
      ]
     },
     "metadata": {
      "needs_background": "light"
     },
     "output_type": "display_data"
    }
   ],
   "source": [
    "#확률오차의 정규성 확인\n",
    "model_residuals = model_trained.resid\n",
    "plt.rcParams['axes.unicode_minus'] = False\n",
    "fig, ax = plt.subplots(1,1)\n",
    "fig.set_figheight(12)\n",
    "fig.set_figwidth(12)\n",
    "\n",
    "sm.ProbPlot(model_residuals).qqplot(line='s', color='#1f77b4', ax=ax)\n",
    "ax.title.set_text('QQ Plot')\n"
   ]
  },
  {
   "cell_type": "code",
   "execution_count": 87,
   "metadata": {
    "colab": {
     "base_uri": "https://localhost:8080/",
     "height": 584
    },
    "id": "xbRpYjkZHg_T",
    "outputId": "1644a63b-9717-4ae7-a530-b67c951d6ef1"
   },
   "outputs": [
    {
     "name": "stderr",
     "output_type": "stream",
     "text": [
      "/usr/local/anaconda3/lib/python3.8/site-packages/seaborn/_decorators.py:36: FutureWarning: Pass the following variables as keyword args: x, y. From version 0.12, the only valid positional argument will be `data`, and passing other arguments without an explicit keyword will result in an error or misinterpretation.\n",
      "  warnings.warn(\n"
     ]
    },
    {
     "data": {
      "text/plain": [
       "[Text(0.5, 0, 'Fitted values'), Text(0, 0.5, 'Residuals')]"
      ]
     },
     "execution_count": 87,
     "metadata": {},
     "output_type": "execute_result"
    },
    {
     "data": {
      "image/png": "[encoded data removed]",
      "text/plain": [
       "<Figure size 864x576 with 1 Axes>"
      ]
     },
     "metadata": {
      "needs_background": "light"
     },
     "output_type": "display_data"
    }
   ],
   "source": [
    "#확률오차의 등분산성 확인 \n",
    "model_fitted_y= model_trained.fittedvalues \n",
    "\n",
    "fig, ax = plt.subplots(1,1)\n",
    "fig.set_figheight(8)\n",
    "fig.set_figwidth(12)\n",
    "\n",
    "sns.residplot(model_fitted_y, Y_train, data=X_train, lowess=True, scatter_kws={'alpha': 0.5},\n",
    "              line_kws={'color':'red'}, ax=ax)\n",
    "ax.title.set_text('Residuals vs Fitted')\n",
    "ax.set(xlabel='Fitted values', ylabel='Residuals')\n"
   ]
  },
  {
   "cell_type": "code",
   "execution_count": 88,
   "metadata": {
    "colab": {
     "base_uri": "https://localhost:8080/"
    },
    "id": "5wjlEgkSJFl0",
    "outputId": "fa2a6251-8fdd-4fad-c9ae-aeb902058d40",
    "scrolled": true
   },
   "outputs": [
    {
     "name": "stdout",
     "output_type": "stream",
     "text": [
      "                            OLS Regression Results                            \n",
      "==============================================================================\n",
      "Dep. Variable:                    핑크본   R-squared:                       0.169\n",
      "Model:                            OLS   Adj. R-squared:                  0.075\n",
      "Method:                 Least Squares   F-statistic:                     1.798\n",
      "Date:                Fri, 22 Oct 2021   Prob (F-statistic):              0.117\n",
      "Time:                        16:40:06   Log-Likelihood:                -108.55\n",
      "No. Observations:                  60   AIC:                             231.1\n",
      "Df Residuals:                      53   BIC:                             245.8\n",
      "Df Model:                           6                                         \n",
      "Covariance Type:            nonrobust                                         \n",
      "==============================================================================\n",
      "                 coef    std err          t      P>|t|      [0.025      0.975]\n",
      "------------------------------------------------------------------------------\n",
      "const      -1630.2189    661.708     -2.464      0.017   -2957.437    -303.001\n",
      "day            0.0375      0.015      2.466      0.017       0.007       0.068\n",
      "avgtemp       -0.0199      0.207     -0.096      0.924      -0.435       0.396\n",
      "hightemp      -0.0365      0.161     -0.227      0.821      -0.359       0.286\n",
      "avgrain       -0.0269      0.113     -0.238      0.812      -0.253       0.199\n",
      "avgwind       -0.5035      0.520     -0.969      0.337      -1.546       0.539\n",
      "avghum         0.0160      0.015      1.075      0.287      -0.014       0.046\n",
      "==============================================================================\n",
      "Omnibus:                       81.186   Durbin-Watson:                   2.193\n",
      "Prob(Omnibus):                  0.000   Jarque-Bera (JB):             1060.506\n",
      "Skew:                           3.819   Prob(JB):                    5.18e-231\n",
      "Kurtosis:                      22.128   Cond. No.                     1.42e+08\n",
      "==============================================================================\n",
      "\n",
      "Notes:\n",
      "[1] Standard Errors assume that the covariance matrix of the errors is correctly specified.\n",
      "[2] The condition number is large, 1.42e+08. This might indicate that there are\n",
      "strong multicollinearity or other numerical problems.\n"
     ]
    }
   ],
   "source": [
    "#4.2 설명: 통계적으로 해석하기 \n",
    "print(model_trained.summary())"
   ]
  },
  {
   "cell_type": "code",
   "execution_count": 89,
   "metadata": {
    "colab": {
     "base_uri": "https://localhost:8080/"
    },
    "id": "rrTbEDNJJehz",
    "outputId": "df4c612a-198a-41ef-a114-65c06184bc69"
   },
   "outputs": [
    {
     "name": "stdout",
     "output_type": "stream",
     "text": [
      "                            OLS Regression Results                            \n",
      "==============================================================================\n",
      "Dep. Variable:                    핑크본   R-squared:                       0.159\n",
      "Model:                            OLS   Adj. R-squared:                  0.114\n",
      "Method:                 Least Squares   F-statistic:                     3.529\n",
      "Date:                Fri, 22 Oct 2021   Prob (F-statistic):             0.0205\n",
      "Time:                        16:41:06   Log-Likelihood:                -108.91\n",
      "No. Observations:                  60   AIC:                             225.8\n",
      "Df Residuals:                      56   BIC:                             234.2\n",
      "Df Model:                           3                                         \n",
      "Covariance Type:            nonrobust                                         \n",
      "==============================================================================\n",
      "                 coef    std err          t      P>|t|      [0.025      0.975]\n",
      "------------------------------------------------------------------------------\n",
      "const      -1232.8390    400.992     -3.074      0.003   -2036.123    -429.555\n",
      "day            0.0284      0.009      3.078      0.003       0.010       0.047\n",
      "avgwind       -0.4045      0.374     -1.083      0.284      -1.153       0.344\n",
      "avghum         0.0147      0.012      1.180      0.243      -0.010       0.040\n",
      "==============================================================================\n",
      "Omnibus:                       80.534   Durbin-Watson:                   2.179\n",
      "Prob(Omnibus):                  0.000   Jarque-Bera (JB):             1010.891\n",
      "Skew:                           3.796   Prob(JB):                    3.08e-220\n",
      "Kurtosis:                      21.620   Cond. No.                     8.78e+07\n",
      "==============================================================================\n",
      "\n",
      "Notes:\n",
      "[1] Standard Errors assume that the covariance matrix of the errors is correctly specified.\n",
      "[2] The condition number is large, 8.78e+07. This might indicate that there are\n",
      "strong multicollinearity or other numerical problems.\n"
     ]
    }
   ],
   "source": [
    "\n",
    "#p-value가 높은 값 제거 \n",
    "model = sm.OLS(Y_train, X_train.drop(['avgtemp','hightemp','avgrain'], axis=1))\n",
    "model_trained = model.fit()\n",
    "print(model_trained.summary())\n"
   ]
  },
  {
   "cell_type": "code",
   "execution_count": 90,
   "metadata": {
    "colab": {
     "base_uri": "https://localhost:8080/",
     "height": 994
    },
    "id": "SyPp3FIaKJVG",
    "outputId": "f1899f3a-fb10-4eda-c459-68f0a4975772"
   },
   "outputs": [
    {
     "data": {
      "image/png": "[encoded data removed]",
      "text/plain": [
       "<Figure size 576x576 with 1 Axes>"
      ]
     },
     "metadata": {
      "needs_background": "light"
     },
     "output_type": "display_data"
    }
   ],
   "source": [
    "#4.3 예측: 미래의 반응변수 값 예측하기 \n",
    "y_train_pred = model_trained.fittedvalues \n",
    "\n",
    "plt.figure(figsize=(8,8))\n",
    "plt.title('actual vs model predicted value')\n",
    "plt.scatter(Y_train, y_train_pred)\n",
    "plt.plot([-5, 55], [-5, 55], ls=\"--\", c='red')\n",
    "plt.xlabel('actual', size=16)\n",
    "plt.ylabel('model predicted value', size=16)\n",
    "plt.xlim(-5, 55)\n",
    "plt.ylim(-5, 55)\n",
    "plt.show()"
   ]
  },
  {
   "cell_type": "code",
   "execution_count": 91,
   "metadata": {
    "id": "TX7C2UP0LNiK"
   },
   "outputs": [
    {
     "name": "stderr",
     "output_type": "stream",
     "text": [
      "/usr/local/anaconda3/lib/python3.8/site-packages/statsmodels/tsa/tsatools.py:142: FutureWarning: In a future version of pandas all arguments of concat except for the argument 'objs' will be keyword-only\n",
      "  x = pd.concat(x[::order], 1)\n"
     ]
    }
   ],
   "source": [
    "X_test = sm.add_constant(X_test)"
   ]
  },
  {
   "cell_type": "code",
   "execution_count": 92,
   "metadata": {
    "colab": {
     "base_uri": "https://localhost:8080/"
    },
    "id": "u6GuzLYdLixE",
    "outputId": "b258d342-f276-43fd-9462-d379c21630db"
   },
   "outputs": [
    {
     "data": {
      "text/plain": [
       "34    0.421808\n",
       "75    1.689918\n",
       "69    1.947260\n",
       "68    1.555548\n",
       "8    -0.019603\n",
       "dtype: float64"
      ]
     },
     "execution_count": 92,
     "metadata": {},
     "output_type": "execute_result"
    }
   ],
   "source": [
    "y_test_pred = model_trained.predict(X_test.drop(['avgtemp','hightemp','avgrain'], axis=1))\n",
    "y_test_pred.head()"
   ]
  },
  {
   "cell_type": "code",
   "execution_count": 93,
   "metadata": {
    "colab": {
     "base_uri": "https://localhost:8080/"
    },
    "id": "8Zi-71SELwjq",
    "outputId": "8d844be2-8013-4b27-bc81-eb27e7246cc1"
   },
   "outputs": [
    {
     "name": "stdout",
     "output_type": "stream",
     "text": [
      "3.7976672436015373\n"
     ]
    }
   ],
   "source": [
    "#Mean Squared Error\n",
    "print(mean_squared_error(Y_test, y_test_pred))"
   ]
  },
  {
   "cell_type": "code",
   "execution_count": 94,
   "metadata": {
    "colab": {
     "base_uri": "https://localhost:8080/"
    },
    "id": "WQ-b9ZkyMBVv",
    "outputId": "137114e2-cf89-43ee-a905-04b7b423a828"
   },
   "outputs": [
    {
     "name": "stdout",
     "output_type": "stream",
     "text": [
      "1.948760437714584\n"
     ]
    }
   ],
   "source": [
    "#제곱근 평균 제곱 오차\n",
    "print(np.sqrt(mean_squared_error(Y_test, y_test_pred)))"
   ]
  },
  {
   "cell_type": "code",
   "execution_count": 95,
   "metadata": {
    "colab": {
     "base_uri": "https://localhost:8080/"
    },
    "id": "3Sz_vFBMMR1_",
    "outputId": "61b6a592-5719-4e65-a569-41c14de009e4"
   },
   "outputs": [
    {
     "name": "stdout",
     "output_type": "stream",
     "text": [
      "1.2247734876016025\n"
     ]
    }
   ],
   "source": [
    "#평균 절대 오차 \n",
    "print(mean_absolute_error(Y_test, y_test_pred))"
   ]
  },
  {
   "cell_type": "code",
   "execution_count": 96,
   "metadata": {
    "colab": {
     "base_uri": "https://localhost:8080/"
    },
    "id": "hodcHOrnMj78",
    "outputId": "869f3796-1075-4611-b9a5-976687f8e893"
   },
   "outputs": [
    {
     "name": "stdout",
     "output_type": "stream",
     "text": [
      "inf\n"
     ]
    },
    {
     "name": "stderr",
     "output_type": "stream",
     "text": [
      "/var/folders/bq/fx32wzws4hl9rlwvtlhf8zf00000gn/T/ipykernel_2602/2655571631.py:4: RuntimeWarning: divide by zero encountered in true_divide\n",
      "  return np.mean(np.abs((Y_true-Y_pred)/Y_true))*100\n"
     ]
    }
   ],
   "source": [
    "#평균 절대 백분율 오차 \n",
    "def mean_absolute_percentage_error(Y_true, Y_pred):\n",
    "  Y_true, Y_pred = np.array(Y_true), np.array(Y_pred)\n",
    "  return np.mean(np.abs((Y_true-Y_pred)/Y_true))*100\n",
    "\n",
    "print(mean_absolute_percentage_error(Y_test, y_test_pred))"
   ]
  },
  {
   "cell_type": "code",
   "execution_count": 97,
   "metadata": {
    "colab": {
     "base_uri": "https://localhost:8080/"
    },
    "id": "SEfNbtkHNwEq",
    "outputId": "ded0b573-1fa4-4406-b90d-ff799802424b"
   },
   "outputs": [
    {
     "name": "stdout",
     "output_type": "stream",
     "text": [
      "-0.02812297023413657\n"
     ]
    }
   ],
   "source": [
    "#결정계수 \n",
    "print(r2_score(Y_test, y_test_pred))"
   ]
  },
  {
   "cell_type": "code",
   "execution_count": 98,
   "metadata": {
    "colab": {
     "base_uri": "https://localhost:8080/"
    },
    "id": "97nU4MRNN8IL",
    "outputId": "642ec5c1-aa12-449a-9aaf-be1ef6b248dc"
   },
   "outputs": [
    {
     "name": "stdout",
     "output_type": "stream",
     "text": [
      "Training MSE: 2.209\n",
      "Training RMSE: 1.486\n",
      "Training MAE: 0.781\n",
      "Training MAPE: inf\n",
      "Training R2: 0.159\n"
     ]
    },
    {
     "name": "stderr",
     "output_type": "stream",
     "text": [
      "/var/folders/bq/fx32wzws4hl9rlwvtlhf8zf00000gn/T/ipykernel_2602/2655571631.py:4: RuntimeWarning: divide by zero encountered in true_divide\n",
      "  return np.mean(np.abs((Y_true-Y_pred)/Y_true))*100\n"
     ]
    }
   ],
   "source": [
    "#최종 결과정리 \n",
    "print('Training MSE: {:.3f}'.format(mean_squared_error(Y_train, y_train_pred)))\n",
    "print('Training RMSE: {:.3f}'.format(np.sqrt(mean_squared_error(Y_train, y_train_pred))))\n",
    "print('Training MAE: {:.3f}'.format(mean_absolute_error(Y_train, y_train_pred)))\n",
    "print('Training MAPE: {:.3f}'.format(mean_absolute_percentage_error(Y_train, y_train_pred)))\n",
    "print('Training R2: {:.3f}'.format(r2_score(Y_train, y_train_pred)))"
   ]
  },
  {
   "cell_type": "code",
   "execution_count": 99,
   "metadata": {
    "colab": {
     "base_uri": "https://localhost:8080/"
    },
    "id": "8GZ4GYEwOxuK",
    "outputId": "8345f956-a1e4-4942-9538-bd169488aff2"
   },
   "outputs": [
    {
     "name": "stdout",
     "output_type": "stream",
     "text": [
      "Test MSE: 3.798\n",
      "Test RMSE: 1.949\n",
      "Test MAE: 1.225\n",
      "Test MAPE: inf\n",
      "Test R2: -0.028\n"
     ]
    },
    {
     "name": "stderr",
     "output_type": "stream",
     "text": [
      "/var/folders/bq/fx32wzws4hl9rlwvtlhf8zf00000gn/T/ipykernel_2602/2655571631.py:4: RuntimeWarning: divide by zero encountered in true_divide\n",
      "  return np.mean(np.abs((Y_true-Y_pred)/Y_true))*100\n"
     ]
    }
   ],
   "source": [
    "print('Test MSE: {:.3f}'.format(mean_squared_error(Y_test, y_test_pred)))\n",
    "print('Test RMSE: {:.3f}'.format(np.sqrt(mean_squared_error(Y_test, y_test_pred))))\n",
    "print('Test MAE: {:.3f}'.format(mean_absolute_error(Y_test, y_test_pred)))\n",
    "print('Test MAPE: {:.3f}'.format(mean_absolute_percentage_error(Y_test, y_test_pred)))\n",
    "print('Test R2: {:.3f}'.format(r2_score(Y_test, y_test_pred)))"
   ]
  },
  {
   "cell_type": "code",
   "execution_count": null,
   "metadata": {
    "id": "ic6LQ1R6PXVu"
   },
   "outputs": [],
   "source": [
    "from sklearn.linear_model import LinearRegression\n",
    "import statsmodels.api as sm "
   ]
  },
  {
   "cell_type": "code",
   "execution_count": null,
   "metadata": {
    "id": "DrqetPuYQK0D"
   },
   "outputs": [],
   "source": [
    "lr_skl = LinearRegression(fit_intercept=False)\n",
    "lr_skl.fit(X_train, Y_train)\n",
    "y_pred_skl = lr_skl.predict(X_test)\n",
    "\n",
    "lr_stat = sm.OLS(Y_train, X_train).fit()\n",
    "y_pred_stat = lr_stat.predict(X_test)"
   ]
  },
  {
   "cell_type": "code",
   "execution_count": null,
   "metadata": {
    "colab": {
     "base_uri": "https://localhost:8080/"
    },
    "id": "hmCQ12JXQ0VS",
    "outputId": "2bfb0f6c-9f26-4698-95eb-9836679c3f65"
   },
   "outputs": [],
   "source": [
    "#StatModels 결과 \n",
    "test_mse_stat = mean_squared_error(Y_test, y_pred_stat)\n",
    "test_rmse_stat = np.sqrt(mean_squared_error(Y_test, y_pred_stat))\n",
    "test_mae_stat = mean_absolute_error(Y_test, y_pred_stat)\n",
    "test_mape_stat = mean_absolute_percentage_error(Y_test, y_pred_stat)\n",
    "test_r2_stat = r2_score(Y_test, y_pred_stat)\n",
    "\n",
    "print('Testing MSE: {:.3f}'.format(test_mse_stat))\n",
    "print('Testing RMSE: {:.3f}'.format(test_rmse_stat))\n",
    "print('Testing MAE: {:.3f}'.format(test_mae_stat))\n",
    "print('Testing MAPE: {:.3f}'.format(test_mape_stat))\n",
    "print('Testing R2: {:.3f}'.format(test_r2_stat))"
   ]
  },
  {
   "cell_type": "code",
   "execution_count": null,
   "metadata": {
    "colab": {
     "base_uri": "https://localhost:8080/"
    },
    "id": "MDKyq-RpSapn",
    "outputId": "347138f0-f8cf-4dc9-dc7f-6fd6feabafea"
   },
   "outputs": [],
   "source": [
    "#Sklearn 결과\n",
    "test_mse_skl = mean_squared_error(Y_test, y_pred_skl)\n",
    "test_rmse_skl = np.sqrt(mean_squared_error(Y_test, y_pred_skl))\n",
    "test_mae_skl = mean_absolute_error(Y_test, y_pred_skl)\n",
    "test_mape_skl = mean_absolute_percentage_error(Y_test, y_pred_skl)\n",
    "test_r2_skl = r2_score(Y_test, y_pred_skl)\n",
    "\n",
    "print('Testing MSE: {:.3f}'.format(test_mse_skl))\n",
    "print('Testing RMSE: {:.3f}'.format(test_rmse_skl))\n",
    "print('Testing MAE: {:.3f}'.format(test_mae_skl))\n",
    "print('Testing MAPE: {:.3f}'.format(test_mape_skl))\n",
    "print('Testing R2: {:.3f}'.format(test_r2_skl))"
   ]
  },
  {
   "cell_type": "code",
   "execution_count": null,
   "metadata": {
    "id": "y6LGRewMUO92"
   },
   "outputs": [],
   "source": [
    "'''\n",
    "import pandas as pd \n",
    "import csv\n",
    "\n",
    "lr_data=pd.DataFrame(y_test_pred)\n",
    "\n",
    "lr_data\n",
    "\n",
    "\n",
    "#lr_data.to_csv('lrseoulforestprofit.csv', index=False)\n",
    "'''"
   ]
  },
  {
   "cell_type": "code",
   "execution_count": null,
   "metadata": {},
   "outputs": [],
   "source": []
  },
  {
   "cell_type": "code",
   "execution_count": null,
   "metadata": {},
   "outputs": [],
   "source": []
  }
 ],
 "metadata": {
  "colab": {
   "collapsed_sections": [],
   "name": "Linear Regression 실습.ipynb",
   "provenance": []
  },
  "kernelspec": {
   "display_name": "Python 3",
   "language": "python",
   "name": "python3"
  },
  "language_info": {
   "codemirror_mode": {
    "name": "ipython",
    "version": 3
   },
   "file_extension": ".py",
   "mimetype": "text/x-python",
   "name": "python",
   "nbconvert_exporter": "python",
   "pygments_lexer": "ipython3",
   "version": "3.8.8"
  }
 },
 "nbformat": 4,
 "nbformat_minor": 1
}
