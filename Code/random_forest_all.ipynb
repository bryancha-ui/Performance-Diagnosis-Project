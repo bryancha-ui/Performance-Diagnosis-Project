{
 "cells": [
  {
   "cell_type": "code",
   "execution_count": 1,
   "metadata": {
    "id": "ZjTm1R-wZeHQ"
   },
   "outputs": [],
   "source": [
    "from IPython.display import display\n",
    "import warnings\n",
    "warnings.filterwarnings(action='ignore')\n",
    "\n",
    "#데이터 전처리\n",
    "import numpy as np \n",
    "import pandas as pd\n",
    "from sklearn.preprocessing import StandardScaler\n",
    "\n",
    "#기계학습 모델 및 평가\n",
    "from sklearn.model_selection import GridSearchCV\n",
    "from sklearn.model_selection import cross_val_score\n",
    "from sklearn.model_selection import train_test_split\n",
    "from sklearn.neighbors import KNeighborsClassifier\n",
    "from sklearn.ensemble import RandomForestClassifier, RandomForestRegressor\n",
    "from sklearn.tree import DecisionTreeClassifier, DecisionTreeRegressor\n",
    "from sklearn.metrics import accuracy_score, recall_score, precision_score, mean_squared_error, mean_absolute_error, r2_score\n",
    "from sklearn.metrics import plot_confusion_matrix\n",
    "from tqdm import tqdm \n",
    "from sklearn.model_selection import KFold\n",
    "\n",
    "#시각화 \n",
    "import seaborn as sns \n",
    "import matplotlib.pyplot as plt\n",
    "import matplotlib\n",
    "from matplotlib.colors import ListedColormap\n",
    "matplotlib.rcParams['axes.unicode_minus'] = False\n",
    "\n",
    "#한글 폰트 설정\n",
    "plt.rc('font', family= 'Malgun Gothic')\n",
    "\n"
   ]
  },
  {
   "cell_type": "code",
   "execution_count": 2,
   "metadata": {},
   "outputs": [],
   "source": [
    "#데이터 불러오기\n",
    "xs = pd.read_excel('주문 시간별(메뉴별)_신세계강남.xlsx',names=['a','b','가맹점','주문일자','주문시간','반품일시','상품분류','상품코드','상품명','상품단가','주문건수','폐기건수','주문금액','할인금액','실매출합계','부가세액','순매출','기타금액','총합계','결제수단'])\n",
    "ys = pd.read_excel('주문 시간별(메뉴별)_서울숲.xlsx',names=['a','b','가맹점','주문일자','주문시간','반품일시','상품분류','상품코드','상품명','상품단가','주문건수','폐기건수','주문금액','할인금액','실매출합계','부가세액','순매출','기타금액','총합계','결제수단'])\n",
    "zs = pd.read_excel('주문 시간별(메뉴별)_현대대구.xlsx',names=['a','b','가맹점','주문일자','주문시간','반품일시','상품분류','상품코드','상품명','상품단가','주문건수','폐기건수','주문금액','할인금액','실매출합계','부가세액','순매출','기타금액','총합계','결제수단'])\n",
    "a = pd.read_excel('주문 시간별(메뉴별)_현대디큐브.xlsx',names=['a','b','가맹점','주문일자','주문시간','반품일시','상품분류','상품코드','상품명','상품단가','주문건수','폐기건수','주문금액','할인금액','실매출합계','부가세액','순매출','기타금액','총합계','결제수단'])\n",
    "b = pd.read_excel('주문 시간별(메뉴별)_현대목동.xlsx',names=['a','b','가맹점','주문일자','주문시간','반품일시','상품분류','상품코드','상품명','상품단가','주문건수','폐기건수','주문금액','할인금액','실매출합계','부가세액','순매출','기타금액','총합계','결제수단'])\n",
    "c = pd.read_excel('주문 시간별(메뉴별)_현대무역센터.xlsx',names=['a','b','가맹점','주문일자','주문시간','반품일시','상품분류','상품코드','상품명','상품단가','주문건수','폐기건수','주문금액','할인금액','실매출합계','부가세액','순매출','기타금액','총합계','결제수단'])\n",
    "d = pd.read_excel('주문 시간별(메뉴별)_현대압구정.xlsx',names=['a','b','가맹점','주문일자','주문시간','반품일시','상품분류','상품코드','상품명','상품단가','주문건수','폐기건수','주문금액','할인금액','실매출합계','부가세액','순매출','기타금액','총합계','결제수단'])\n",
    "e = pd.read_excel('주문 시간별(메뉴별)_현대중동.xlsx',names=['a','b','가맹점','주문일자','주문시간','반품일시','상품분류','상품코드','상품명','상품단가','주문건수','폐기건수','주문금액','할인금액','실매출합계','부가세액','순매출','기타금액','총합계','결제수단'])\n",
    "f = pd.read_excel('주문 시간별(메뉴별)_현대천호.xlsx',names=['a','b','가맹점','주문일자','주문시간','반품일시','상품분류','상품코드','상품명','상품단가','주문건수','폐기건수','주문금액','할인금액','실매출합계','부가세액','순매출','기타금액','총합계','결제수단'])\n",
    "g = pd.read_excel('주문 시간별(메뉴별)_현대충청.xlsx',names=['a','b','가맹점','주문일자','주문시간','반품일시','상품분류','상품코드','상품명','상품단가','주문건수','폐기건수','주문금액','할인금액','실매출합계','부가세액','순매출','기타금액','총합계','결제수단'])\n",
    "h = pd.read_excel('주문 시간별(메뉴별)_현대킨텍스.xlsx',names=['a','b','가맹점','주문일자','주문시간','반품일시','상품분류','상품코드','상품명','상품단가','주문건수','폐기건수','주문금액','할인금액','실매출합계','부가세액','순매출','기타금액','총합계','결제수단'])\n",
    "i = pd.read_excel('주문 시간별(메뉴별)_AK타운.xlsx',names=['a','b','가맹점','주문일자','주문시간','반품일시','상품분류','상품코드','상품명','상품단가','주문건수','폐기건수','주문금액','할인금액','실매출합계','부가세액','순매출','기타금액','총합계','결제수단'])\n",
    "j = pd.read_excel('주문 시간별(메뉴별)_신세계경기.xlsx',names=['a','b','가맹점','주문일자','주문시간','반품일시','상품분류','상품코드','상품명','상품단가','주문건수','폐기건수','주문금액','할인금액','실매출합계','부가세액','순매출','기타금액','총합계','결제수단'])\n",
    "k = pd.read_excel('주문 시간별(메뉴별)_신세계센텀.xlsx',names=['a','b','가맹점','주문일자','주문시간','반품일시','상품분류','상품코드','상품명','상품단가','주문건수','폐기건수','주문금액','할인금액','실매출합계','부가세액','순매출','기타금액','총합계','결제수단'])\n",
    "l = pd.read_excel('주문 시간별(메뉴별)_신세계의정부.xlsx',names=['a','b','가맹점','주문일자','주문시간','반품일시','상품분류','상품코드','상품명','상품단가','주문건수','폐기건수','주문금액','할인금액','실매출합계','부가세액','순매출','기타금액','총합계','결제수단'])\n",
    "m = pd.read_excel('주문 시간별(메뉴별)_신세계충청.xlsx',names=['a','b','가맹점','주문일자','주문시간','반품일시','상품분류','상품코드','상품명','상품단가','주문건수','폐기건수','주문금액','할인금액','실매출합계','부가세액','순매출','기타금액','총합계','결제수단'])\n"
   ]
  },
  {
   "cell_type": "code",
   "execution_count": 3,
   "metadata": {},
   "outputs": [],
   "source": [
    "#데이터 전처리\n",
    "xs.drop(['a','b'],axis=1, inplace=True)\n",
    "ys.drop(['a','b'],axis=1, inplace=True)\n",
    "zs.drop(['a','b'],axis=1, inplace=True)\n",
    "a.drop(['a','b'],axis=1, inplace=True)\n",
    "b.drop(['a','b'],axis=1, inplace=True)\n",
    "c.drop(['a','b'],axis=1, inplace=True)\n",
    "d.drop(['a','b'],axis=1, inplace=True)\n",
    "e.drop(['a','b'],axis=1, inplace=True)\n",
    "f.drop(['a','b'],axis=1, inplace=True)\n",
    "g.drop(['a','b'],axis=1, inplace=True)\n",
    "h.drop(['a','b'],axis=1, inplace=True)\n",
    "i.drop(['a','b'],axis=1, inplace=True)\n",
    "j.drop(['a','b'],axis=1, inplace=True)\n",
    "k.drop(['a','b'],axis=1, inplace=True)\n",
    "l.drop(['a','b'],axis=1, inplace=True)\n",
    "m.drop(['a','b'],axis=1, inplace=True)\n",
    "\n",
    "xs.drop([0,1,2,3],axis=0, inplace=True)\n",
    "ys.drop([0,1,2,3],axis=0, inplace=True)\n",
    "zs.drop([0,1,2,3],axis=0, inplace=True)\n",
    "a.drop([0,1,2,3],axis=0, inplace=True)\n",
    "b.drop([0,1,2,3],axis=0, inplace=True)\n",
    "c.drop([0,1,2,3],axis=0, inplace=True)\n",
    "d.drop([0,1,2,3],axis=0, inplace=True)\n",
    "e.drop([0,1,2,3],axis=0, inplace=True)\n",
    "f.drop([0,1,2,3],axis=0, inplace=True)\n",
    "g.drop([0,1,2,3],axis=0, inplace=True)\n",
    "h.drop([0,1,2,3],axis=0, inplace=True)\n",
    "i.drop([0,1,2,3],axis=0, inplace=True)\n",
    "j.drop([0,1,2,3],axis=0, inplace=True)\n",
    "k.drop([0,1,2,3],axis=0, inplace=True)\n",
    "l.drop([0,1,2,3],axis=0, inplace=True)\n",
    "m.drop([0,1,2,3],axis=0, inplace=True)\n",
    "\n",
    "\n",
    "xs = xs.iloc[:-3]\n",
    "ys = ys.iloc[:-3]\n",
    "zs = zs.iloc[:-3]\n",
    "a = a.iloc[:-3]\n",
    "b = b.iloc[:-3]\n",
    "c = c.iloc[:-3]\n",
    "d = d.iloc[:-3]\n",
    "e = e.iloc[:-3]\n",
    "f = f.iloc[:-3]\n",
    "g = g.iloc[:-3]\n",
    "h = h.iloc[:-3]\n",
    "i = i.iloc[:-3]\n",
    "j = j.iloc[:-3]\n",
    "k = k.iloc[:-3]\n",
    "l = l.iloc[:-3]\n",
    "m = m.iloc[:-3]\n",
    "\n",
    "xs = xs[(xs.주문시간 != '소계')]\n",
    "xs[xs.주문시간 ==\"\"] = np.NaN\n",
    "xs[xs.가맹점 ==\"\" ] = np.NAN \n",
    "\n",
    "ys = ys[(ys.주문시간 != '소계')]\n",
    "ys[ys.주문시간 ==\"\"] = np.NaN\n",
    "ys[ys.가맹점 ==\"\" ] = np.NAN \n",
    "\n",
    "zs = zs[(zs.주문시간 != '소계')]\n",
    "zs[zs.주문시간 ==\"\"] = np.NaN\n",
    "zs[zs.가맹점 ==\"\" ] = np.NAN \n",
    "\n",
    "a = a[(a.주문시간 != '소계')]\n",
    "a[a.주문시간 ==\"\"] = np.NaN\n",
    "a[a.가맹점 ==\"\" ] = np.NAN \n",
    "\n",
    "b = b[(b.주문시간 != '소계')]\n",
    "b[b.주문시간 ==\"\"] = np.NaN\n",
    "b[b.가맹점 ==\"\" ] = np.NAN \n",
    "\n",
    "c = c[(c.주문시간 != '소계')]\n",
    "c[c.주문시간 ==\"\"] = np.NaN\n",
    "c[c.가맹점 ==\"\" ] = np.NAN \n",
    "\n",
    "d = d[(d.주문시간 != '소계')]\n",
    "d[d.주문시간 ==\"\"] = np.NaN\n",
    "d[d.가맹점 ==\"\" ] = np.NAN \n",
    "\n",
    "e = e[(e.주문시간 != '소계')]\n",
    "e[e.주문시간 ==\"\"] = np.NaN\n",
    "e[e.가맹점 ==\"\" ] = np.NAN \n",
    "\n",
    "f = f[(f.주문시간 != '소계')]\n",
    "f[f.주문시간 ==\"\"] = np.NaN\n",
    "f[f.가맹점 ==\"\" ] = np.NAN \n",
    "\n",
    "g = g[(g.주문시간 != '소계')]\n",
    "g[g.주문시간 ==\"\"] = np.NaN\n",
    "g[g.가맹점 ==\"\" ] = np.NAN \n",
    "\n",
    "h = h[(h.주문시간 != '소계')]\n",
    "h[h.주문시간 ==\"\"] = np.NaN\n",
    "h[h.가맹점 ==\"\" ] = np.NAN \n",
    "\n",
    "i = i[(i.주문시간 != '소계')]\n",
    "i[i.주문시간 ==\"\"] = np.NaN\n",
    "i[i.가맹점 ==\"\" ] = np.NAN \n",
    "\n",
    "j = j[(j.주문시간 != '소계')]\n",
    "j[j.주문시간 ==\"\"] = np.NaN\n",
    "j[j.가맹점 ==\"\" ] = np.NAN \n",
    "\n",
    "k = k[(k.주문시간 != '소계')]\n",
    "k[k.주문시간 ==\"\"] = np.NaN\n",
    "k[k.가맹점 ==\"\" ] = np.NAN \n",
    "\n",
    "l = l[(l.주문시간 != '소계')]\n",
    "l[l.주문시간 ==\"\"] = np.NaN\n",
    "l[l.가맹점 ==\"\" ] = np.NAN \n",
    "\n",
    "m = m[(m.주문시간 != '소계')]\n",
    "m[m.주문시간 ==\"\"] = np.NaN\n",
    "m[m.가맹점 ==\"\" ] = np.NAN \n",
    "\n"
   ]
  },
  {
   "cell_type": "code",
   "execution_count": 4,
   "metadata": {},
   "outputs": [],
   "source": [
    "xs[['가맹점','주문일자','주문시간','상품명']]= xs[['가맹점','주문일자','주문시간','상품명']].fillna(method='ffill')\n",
    "ys[['가맹점','주문일자','주문시간','상품명']]= ys[['가맹점','주문일자','주문시간','상품명']].fillna(method='ffill')\n",
    "zs[['가맹점','주문일자','주문시간','상품명']]= zs[['가맹점','주문일자','주문시간','상품명']].fillna(method='ffill')\n",
    "a[['가맹점','주문일자','주문시간','상품명']]= a[['가맹점','주문일자','주문시간','상품명']].fillna(method='ffill')\n",
    "b[['가맹점','주문일자','주문시간','상품명']]= b[['가맹점','주문일자','주문시간','상품명']].fillna(method='ffill')\n",
    "c[['가맹점','주문일자','주문시간','상품명']]= c[['가맹점','주문일자','주문시간','상품명']].fillna(method='ffill')\n",
    "d[['가맹점','주문일자','주문시간','상품명']]= d[['가맹점','주문일자','주문시간','상품명']].fillna(method='ffill')\n",
    "e[['가맹점','주문일자','주문시간','상품명']]= e[['가맹점','주문일자','주문시간','상품명']].fillna(method='ffill')\n",
    "f[['가맹점','주문일자','주문시간','상품명']]= f[['가맹점','주문일자','주문시간','상품명']].fillna(method='ffill')\n",
    "g[['가맹점','주문일자','주문시간','상품명']]= g[['가맹점','주문일자','주문시간','상품명']].fillna(method='ffill')\n",
    "h[['가맹점','주문일자','주문시간','상품명']]= h[['가맹점','주문일자','주문시간','상품명']].fillna(method='ffill')\n",
    "i[['가맹점','주문일자','주문시간','상품명']]= i[['가맹점','주문일자','주문시간','상품명']].fillna(method='ffill')\n",
    "j[['가맹점','주문일자','주문시간','상품명']]= j[['가맹점','주문일자','주문시간','상품명']].fillna(method='ffill')\n",
    "k[['가맹점','주문일자','주문시간','상품명']]= k[['가맹점','주문일자','주문시간','상품명']].fillna(method='ffill')\n",
    "l[['가맹점','주문일자','주문시간','상품명']]= l[['가맹점','주문일자','주문시간','상품명']].fillna(method='ffill')\n",
    "m[['가맹점','주문일자','주문시간','상품명']]= m[['가맹점','주문일자','주문시간','상품명']].fillna(method='ffill')"
   ]
  },
  {
   "cell_type": "code",
   "execution_count": 5,
   "metadata": {},
   "outputs": [],
   "source": [
    "xs=xs.append(ys,ignore_index=True)\n",
    "xs=xs.append(zs,ignore_index=True)\n",
    "xs=xs.append(a,ignore_index=True)\n",
    "xs=xs.append(b,ignore_index=True)\n",
    "xs=xs.append(c,ignore_index=True)\n",
    "xs=xs.append(d,ignore_index=True)\n",
    "xs=xs.append(e,ignore_index=True)\n",
    "xs=xs.append(f,ignore_index=True)\n",
    "xs=xs.append(g,ignore_index=True)\n",
    "xs=xs.append(h,ignore_index=True)\n",
    "xs=xs.append(i,ignore_index=True)\n",
    "xs=xs.append(j,ignore_index=True)\n",
    "xs=xs.append(k,ignore_index=True)\n",
    "xs=xs.append(l,ignore_index=True)\n",
    "xs=xs.append(m,ignore_index=True)"
   ]
  },
  {
   "cell_type": "code",
   "execution_count": 6,
   "metadata": {},
   "outputs": [],
   "source": [
    "# 중복되는 항목 합계 및 통계적으로 의미가 크게 없는 항목 제외 \n",
    "xs=xs = xs[(xs.상품명 != '숫자초')]\n",
    "xs=xs = xs[(xs.상품명 != '크림치즈소스')]\n",
    "xs=xs = xs[(xs.상품명 != '초코소스')]\n",
    "xs=xs = xs[(xs.상품명 != '카라멜 소스')]\n",
    "xs=xs = xs[(xs.상품명 != '종이 쇼핑백')]\n",
    "xs=xs = xs[(xs.상품명 != '샷추가')]\n",
    "xs=xs = xs[(xs.상품명 != 'ICE')]\n",
    "xs=xs = xs[(xs.상품명 != '무료_리유저블텀블러')]\n",
    "xs=xs = xs[(xs.상품명 != '(딜)ICE')]\n",
    "xs=xs = xs[(xs.상품명 != '데우기')]\n",
    "xs=xs = xs[(xs.상품명 != '커피(직원용)')]\n",
    "xs=xs = xs[(xs.상품명 != 'HOT')]\n",
    "xs=xs = xs[(xs.상품명 != 'TAKE IN')]\n",
    "xs=xs = xs[(xs.상품명 != 'TO GO')]\n",
    "xs=xs = xs[(xs.상품명 != '(딜)크림치즈소스')]\n",
    "\n",
    "xs.replace(\"아메리카노(브루)\",\"아메리카노\",inplace=True)\n",
    "xs.replace(\"ice아메리카노\",\"아메리카노\",inplace=True)\n",
    "xs.replace(\"ice 아메리카노\",\"아메리카노\",inplace=True)\n",
    "xs.replace(\"아이스 카페라떼(브루)\",\"카페라떼\",inplace=True)\n",
    "xs.replace(\"ice 카페라떼\",\"카페라떼\",inplace=True)\n",
    "xs.replace(\"아이스커피(브루)\",\"아이스커피\",inplace=True)\n",
    "xs.replace(\"(딜)더블 초코 미니팩\",\"(2)더블초코미니팩\",inplace=True)\n",
    "xs.replace(\"(딜)더블 피칸 미니팩\",\"(3)더블피칸미니팩\",inplace=True)\n",
    "xs.replace(\"(딜)더블피칸 시나팩\",\"(5)더블피칸시나팩\",inplace=True)\n",
    "xs.replace(\"(딜)딸기칠라타\",\"딸기칠라타\",inplace=True)\n",
    "xs.replace(\"(딜)딸기피지\",\"콤보_딸기피지\",inplace=True)\n",
    "xs.replace(\"(딜)망고칠라타\",\"망고칠라타\",inplace=True)\n",
    "xs.replace(\"(딜)망고피지\",\"콤보_망고피지\",inplace=True)\n",
    "xs.replace(\"(딜)바닐라라떼\",\"바닐라라떼\",inplace=True)\n",
    "xs.replace(\"ice 바닐라라떼\",\"바닐라라떼\",inplace=True)\n",
    "xs.replace(\"(딜)베리 버라이어티팩\",\"베리 버라이어티 팩\",inplace=True)\n",
    "xs.replace(\"(딜)베리본\",\"베리 본\",inplace=True)\n",
    "xs.replace(\"(딜)시그니처 카푸치노\",\"시그니쳐카푸치노\",inplace=True)\n",
    "xs.replace(\"(딜)아메리카노\",\"아메리카노\",inplace=True)\n",
    "xs.replace(\"(딜)얼그레이\",\"얼그레이\",inplace=True)\n",
    "xs.replace(\"ice얼그레이\",\"얼그레이\",inplace=True)\n",
    "xs.replace(\"(딜)잉글리쉬블랙퍼스트\",\"잉글리쉬블랙퍼스트\",inplace=True)\n",
    "xs.replace(\"ice잉글리쉬블랙퍼스트\",\"잉글리쉬블랙퍼스트\",inplace=True)\n",
    "xs.replace(\"(딜)초코 미니본\",\"Mini 초코본\",inplace=True)\n",
    "xs.replace(\"(딜)카라멜 피칸 미니본\",\"카라멜 피칸 Mini 본\",inplace=True)\n",
    "xs.replace(\"(딜)카라멜 피칸본\",\"카라멜 피칸 본\",inplace=True)\n",
    "xs.replace(\"(딜)카모마일\",\"카모마일\",inplace=True)\n",
    "xs.replace(\"ice카모마일\",\"카모마일\",inplace=True)\n",
    "xs.replace(\"(딜)카페라떼\",\"카페라떼\",inplace=True)\n",
    "xs.replace(\"(딜)클래식 미니본\",\"클래식 Mini 본\",inplace=True)\n",
    "xs.replace(\"(딜)클래식 시나팩\",\"(4)C4클래식시나팩\",inplace=True)\n",
    "xs.replace(\"(딜)트리플 시나팩\",\"(6)TC9트리플시나팩\",inplace=True)\n",
    "\n"
   ]
  },
  {
   "cell_type": "code",
   "execution_count": 7,
   "metadata": {},
   "outputs": [],
   "source": [
    "Xs = xs[(xs.가맹점 == '시나본 신세계강남점')]\n",
    "Ys = xs[(xs.가맹점 == '시나본 서울숲점')]\n",
    "Zs = xs[(xs.가맹점 == '시나본 현대 디큐브점')]\n",
    "A = xs[(xs.가맹점 == '시나본 현대 목동점')]\n",
    "B = xs[(xs.가맹점 == '시나본 현대 본점')]\n",
    "C = xs[(xs.가맹점 == '시나본 현대 충청점')]\n",
    "D = xs[(xs.가맹점 == '시나본 현대대구점')]\n",
    "E = xs[(xs.가맹점 == '시나본 현대무역센터점')]\n",
    "F = xs[(xs.가맹점 == '시나본 현대중동점')]\n",
    "G = xs[(xs.가맹점 == '시나본 현대천호점')]\n",
    "H = xs[(xs.가맹점 == '시나본 현대킨텍스점')]\n",
    "I = xs[(xs.가맹점 == '시나본 AK Town점')]\n",
    "J= xs[(xs.가맹점 == '시나본 신세계경기점')]\n",
    "K= xs[(xs.가맹점 == '시나본 신세계센텀점')]\n",
    "L= xs[(xs.가맹점 == '시나본 신세계 의정부점')]\n",
    "M= xs[(xs.가맹점 == '시나본 신세계 충청점')]"
   ]
  },
  {
   "cell_type": "code",
   "execution_count": 8,
   "metadata": {},
   "outputs": [],
   "source": [
    "X_piv = pd.pivot_table(Xs, index=['주문일자'], values = '순매출', aggfunc = np.sum)\n",
    "Y_piv = pd.pivot_table(Ys, index=['주문일자'], values = '순매출', aggfunc = np.sum)\n",
    "Z_piv = pd.pivot_table(Zs, index=['주문일자'], values = '순매출', aggfunc = np.sum)\n",
    "A_piv = pd.pivot_table(A, index=['주문일자'], values = '순매출', aggfunc = np.sum)\n",
    "B_piv = pd.pivot_table(B, index=['주문일자'], values = '순매출', aggfunc = np.sum)\n",
    "C_piv = pd.pivot_table(C, index=['주문일자'], values = '순매출', aggfunc = np.sum)\n",
    "D_piv = pd.pivot_table(D, index=['주문일자'], values = '순매출', aggfunc = np.sum)\n",
    "E_piv = pd.pivot_table(E, index=['주문일자'], values = '순매출', aggfunc = np.sum)\n",
    "F_piv = pd.pivot_table(F, index=['주문일자'], values = '순매출', aggfunc = np.sum)\n",
    "G_piv = pd.pivot_table(G, index=['주문일자'], values = '순매출', aggfunc = np.sum)\n",
    "H_piv = pd.pivot_table(H, index=['주문일자'], values = '순매출', aggfunc = np.sum)\n",
    "I_piv = pd.pivot_table(I, index=['주문일자'], values = '순매출', aggfunc = np.sum)\n",
    "J_piv = pd.pivot_table(J, index=['주문일자'], values = '순매출', aggfunc = np.sum)\n",
    "K_piv = pd.pivot_table(K, index=['주문일자'], values = '순매출', aggfunc = np.sum)\n",
    "L_piv = pd.pivot_table(L, index=['주문일자'], values = '순매출', aggfunc = np.sum)\n",
    "M_piv = pd.pivot_table(M, index=['주문일자'], values = '순매출', aggfunc = np.sum)"
   ]
  },
  {
   "cell_type": "code",
   "execution_count": 9,
   "metadata": {},
   "outputs": [
    {
     "name": "stdout",
     "output_type": "stream",
     "text": [
      "82 84 82 82 82 82 82 81 82 82 82 83 82 82 82 86\n",
      "81: c현대무역센터  82:c신세계강남, c현대디큐브, c현대목동, c현대본점, c현대충청 c현대대구 c현대중동 c현대천호 c현대킨텍스, c신세계경기, 신세계센텀, 신세계의정부  83: AK town 84: c서울숲 86:c신세계충청\n"
     ]
    }
   ],
   "source": [
    "#지점별 영업일 카운트\n",
    "print( len(X_piv),len(Y_piv), len(Z_piv), len(A_piv), len(B_piv), len(C_piv), len(D_piv), len(E_piv), len(F_piv), len(G_piv),  len(H_piv), len(I_piv), len(J_piv), len(K_piv), len(L_piv),len(M_piv))\n",
    "\n",
    "print(\"81: c현대무역센터 \", \n",
    "      \"82:c신세계강남, c현대디큐브, c현대목동, c현대본점, c현대충청\",\"c현대대구\",\"c현대중동\",\"c현대천호\", \"c현대킨텍스, c신세계경기, 신세계센텀, 신세계의정부 \", \"83: AK town\", \"84: c서울숲\", \"86:c신세계충청\")\n",
    "\n",
    "\n",
    "\n",
    "\n"
   ]
  },
  {
   "cell_type": "code",
   "execution_count": 117,
   "metadata": {},
   "outputs": [
    {
     "ename": "ValueError",
     "evalue": "I/O operation on closed file",
     "output_type": "error",
     "traceback": [
      "\u001b[0;31m---------------------------------------------------------------------------\u001b[0m",
      "\u001b[0;31mValueError\u001b[0m                                Traceback (most recent call last)",
      "\u001b[0;32m<ipython-input-117-f3ae76497c1b>\u001b[0m in \u001b[0;36m<module>\u001b[0;34m\u001b[0m\n\u001b[1;32m     15\u001b[0m     \u001b[0;31m#Y_piv.to_excel(writer, sheet_name='서울숲')\u001b[0m\u001b[0;34m\u001b[0m\u001b[0;34m\u001b[0m\u001b[0;34m\u001b[0m\u001b[0m\n\u001b[1;32m     16\u001b[0m     \u001b[0;31m#M_piv.to_excel(writer, sheet_name='신세계충청')\u001b[0m\u001b[0;34m\u001b[0m\u001b[0;34m\u001b[0m\u001b[0;34m\u001b[0m\u001b[0m\n\u001b[0;32m---> 17\u001b[0;31m \u001b[0mwriter\u001b[0m\u001b[0;34m.\u001b[0m\u001b[0mclose\u001b[0m\u001b[0;34m(\u001b[0m\u001b[0;34m)\u001b[0m\u001b[0;34m\u001b[0m\u001b[0;34m\u001b[0m\u001b[0m\n\u001b[0m",
      "\u001b[0;32m~/opt/anaconda3/lib/python3.8/site-packages/pandas/io/excel/_base.py\u001b[0m in \u001b[0;36mclose\u001b[0;34m(self)\u001b[0m\n\u001b[1;32m    896\u001b[0m     \u001b[0;32mdef\u001b[0m \u001b[0mclose\u001b[0m\u001b[0;34m(\u001b[0m\u001b[0mself\u001b[0m\u001b[0;34m)\u001b[0m\u001b[0;34m:\u001b[0m\u001b[0;34m\u001b[0m\u001b[0;34m\u001b[0m\u001b[0m\n\u001b[1;32m    897\u001b[0m         \u001b[0;34m\"\"\"synonym for save, to make it more file-like\"\"\"\u001b[0m\u001b[0;34m\u001b[0m\u001b[0;34m\u001b[0m\u001b[0m\n\u001b[0;32m--> 898\u001b[0;31m         \u001b[0mcontent\u001b[0m \u001b[0;34m=\u001b[0m \u001b[0mself\u001b[0m\u001b[0;34m.\u001b[0m\u001b[0msave\u001b[0m\u001b[0;34m(\u001b[0m\u001b[0;34m)\u001b[0m\u001b[0;34m\u001b[0m\u001b[0;34m\u001b[0m\u001b[0m\n\u001b[0m\u001b[1;32m    899\u001b[0m         \u001b[0mself\u001b[0m\u001b[0;34m.\u001b[0m\u001b[0mhandles\u001b[0m\u001b[0;34m.\u001b[0m\u001b[0mclose\u001b[0m\u001b[0;34m(\u001b[0m\u001b[0;34m)\u001b[0m\u001b[0;34m\u001b[0m\u001b[0;34m\u001b[0m\u001b[0m\n\u001b[1;32m    900\u001b[0m         \u001b[0;32mreturn\u001b[0m \u001b[0mcontent\u001b[0m\u001b[0;34m\u001b[0m\u001b[0;34m\u001b[0m\u001b[0m\n",
      "\u001b[0;32m~/opt/anaconda3/lib/python3.8/site-packages/pandas/io/excel/_openpyxl.py\u001b[0m in \u001b[0;36msave\u001b[0;34m(self)\u001b[0m\n\u001b[1;32m     52\u001b[0m         \u001b[0mSave\u001b[0m \u001b[0mworkbook\u001b[0m \u001b[0mto\u001b[0m \u001b[0mdisk\u001b[0m\u001b[0;34m.\u001b[0m\u001b[0;34m\u001b[0m\u001b[0;34m\u001b[0m\u001b[0m\n\u001b[1;32m     53\u001b[0m         \"\"\"\n\u001b[0;32m---> 54\u001b[0;31m         \u001b[0mself\u001b[0m\u001b[0;34m.\u001b[0m\u001b[0mbook\u001b[0m\u001b[0;34m.\u001b[0m\u001b[0msave\u001b[0m\u001b[0;34m(\u001b[0m\u001b[0mself\u001b[0m\u001b[0;34m.\u001b[0m\u001b[0mhandles\u001b[0m\u001b[0;34m.\u001b[0m\u001b[0mhandle\u001b[0m\u001b[0;34m)\u001b[0m\u001b[0;34m\u001b[0m\u001b[0;34m\u001b[0m\u001b[0m\n\u001b[0m\u001b[1;32m     55\u001b[0m         \u001b[0;32mif\u001b[0m \u001b[0;34m\"r+\"\u001b[0m \u001b[0;32min\u001b[0m \u001b[0mself\u001b[0m\u001b[0;34m.\u001b[0m\u001b[0mmode\u001b[0m \u001b[0;32mand\u001b[0m \u001b[0;32mnot\u001b[0m \u001b[0misinstance\u001b[0m\u001b[0;34m(\u001b[0m\u001b[0mself\u001b[0m\u001b[0;34m.\u001b[0m\u001b[0mhandles\u001b[0m\u001b[0;34m.\u001b[0m\u001b[0mhandle\u001b[0m\u001b[0;34m,\u001b[0m \u001b[0mmmap\u001b[0m\u001b[0;34m.\u001b[0m\u001b[0mmmap\u001b[0m\u001b[0;34m)\u001b[0m\u001b[0;34m:\u001b[0m\u001b[0;34m\u001b[0m\u001b[0;34m\u001b[0m\u001b[0m\n\u001b[1;32m     56\u001b[0m             \u001b[0;31m# truncate file to the written content\u001b[0m\u001b[0;34m\u001b[0m\u001b[0;34m\u001b[0m\u001b[0;34m\u001b[0m\u001b[0m\n",
      "\u001b[0;32m~/opt/anaconda3/lib/python3.8/site-packages/openpyxl/workbook/workbook.py\u001b[0m in \u001b[0;36msave\u001b[0;34m(self, filename)\u001b[0m\n\u001b[1;32m    405\u001b[0m         \u001b[0;32mif\u001b[0m \u001b[0mself\u001b[0m\u001b[0;34m.\u001b[0m\u001b[0mwrite_only\u001b[0m \u001b[0;32mand\u001b[0m \u001b[0;32mnot\u001b[0m \u001b[0mself\u001b[0m\u001b[0;34m.\u001b[0m\u001b[0mworksheets\u001b[0m\u001b[0;34m:\u001b[0m\u001b[0;34m\u001b[0m\u001b[0;34m\u001b[0m\u001b[0m\n\u001b[1;32m    406\u001b[0m             \u001b[0mself\u001b[0m\u001b[0;34m.\u001b[0m\u001b[0mcreate_sheet\u001b[0m\u001b[0;34m(\u001b[0m\u001b[0;34m)\u001b[0m\u001b[0;34m\u001b[0m\u001b[0;34m\u001b[0m\u001b[0m\n\u001b[0;32m--> 407\u001b[0;31m         \u001b[0msave_workbook\u001b[0m\u001b[0;34m(\u001b[0m\u001b[0mself\u001b[0m\u001b[0;34m,\u001b[0m \u001b[0mfilename\u001b[0m\u001b[0;34m)\u001b[0m\u001b[0;34m\u001b[0m\u001b[0;34m\u001b[0m\u001b[0m\n\u001b[0m\u001b[1;32m    408\u001b[0m \u001b[0;34m\u001b[0m\u001b[0m\n\u001b[1;32m    409\u001b[0m \u001b[0;34m\u001b[0m\u001b[0m\n",
      "\u001b[0;32m~/opt/anaconda3/lib/python3.8/site-packages/openpyxl/writer/excel.py\u001b[0m in \u001b[0;36msave_workbook\u001b[0;34m(workbook, filename)\u001b[0m\n\u001b[1;32m    289\u001b[0m \u001b[0;34m\u001b[0m\u001b[0m\n\u001b[1;32m    290\u001b[0m     \"\"\"\n\u001b[0;32m--> 291\u001b[0;31m     \u001b[0marchive\u001b[0m \u001b[0;34m=\u001b[0m \u001b[0mZipFile\u001b[0m\u001b[0;34m(\u001b[0m\u001b[0mfilename\u001b[0m\u001b[0;34m,\u001b[0m \u001b[0;34m'w'\u001b[0m\u001b[0;34m,\u001b[0m \u001b[0mZIP_DEFLATED\u001b[0m\u001b[0;34m,\u001b[0m \u001b[0mallowZip64\u001b[0m\u001b[0;34m=\u001b[0m\u001b[0;32mTrue\u001b[0m\u001b[0;34m)\u001b[0m\u001b[0;34m\u001b[0m\u001b[0;34m\u001b[0m\u001b[0m\n\u001b[0m\u001b[1;32m    292\u001b[0m     \u001b[0mwriter\u001b[0m \u001b[0;34m=\u001b[0m \u001b[0mExcelWriter\u001b[0m\u001b[0;34m(\u001b[0m\u001b[0mworkbook\u001b[0m\u001b[0;34m,\u001b[0m \u001b[0marchive\u001b[0m\u001b[0;34m)\u001b[0m\u001b[0;34m\u001b[0m\u001b[0;34m\u001b[0m\u001b[0m\n\u001b[1;32m    293\u001b[0m     \u001b[0mwriter\u001b[0m\u001b[0;34m.\u001b[0m\u001b[0msave\u001b[0m\u001b[0;34m(\u001b[0m\u001b[0;34m)\u001b[0m\u001b[0;34m\u001b[0m\u001b[0;34m\u001b[0m\u001b[0m\n",
      "\u001b[0;32m~/opt/anaconda3/lib/python3.8/zipfile.py\u001b[0m in \u001b[0;36m__init__\u001b[0;34m(self, file, mode, compression, allowZip64, compresslevel, strict_timestamps)\u001b[0m\n\u001b[1;32m   1273\u001b[0m                 \u001b[0mself\u001b[0m\u001b[0;34m.\u001b[0m\u001b[0m_didModify\u001b[0m \u001b[0;34m=\u001b[0m \u001b[0;32mTrue\u001b[0m\u001b[0;34m\u001b[0m\u001b[0;34m\u001b[0m\u001b[0m\n\u001b[1;32m   1274\u001b[0m                 \u001b[0;32mtry\u001b[0m\u001b[0;34m:\u001b[0m\u001b[0;34m\u001b[0m\u001b[0;34m\u001b[0m\u001b[0m\n\u001b[0;32m-> 1275\u001b[0;31m                     \u001b[0mself\u001b[0m\u001b[0;34m.\u001b[0m\u001b[0mstart_dir\u001b[0m \u001b[0;34m=\u001b[0m \u001b[0mself\u001b[0m\u001b[0;34m.\u001b[0m\u001b[0mfp\u001b[0m\u001b[0;34m.\u001b[0m\u001b[0mtell\u001b[0m\u001b[0;34m(\u001b[0m\u001b[0;34m)\u001b[0m\u001b[0;34m\u001b[0m\u001b[0;34m\u001b[0m\u001b[0m\n\u001b[0m\u001b[1;32m   1276\u001b[0m                 \u001b[0;32mexcept\u001b[0m \u001b[0;34m(\u001b[0m\u001b[0mAttributeError\u001b[0m\u001b[0;34m,\u001b[0m \u001b[0mOSError\u001b[0m\u001b[0;34m)\u001b[0m\u001b[0;34m:\u001b[0m\u001b[0;34m\u001b[0m\u001b[0;34m\u001b[0m\u001b[0m\n\u001b[1;32m   1277\u001b[0m                     \u001b[0mself\u001b[0m\u001b[0;34m.\u001b[0m\u001b[0mfp\u001b[0m \u001b[0;34m=\u001b[0m \u001b[0m_Tellable\u001b[0m\u001b[0;34m(\u001b[0m\u001b[0mself\u001b[0m\u001b[0;34m.\u001b[0m\u001b[0mfp\u001b[0m\u001b[0;34m)\u001b[0m\u001b[0;34m\u001b[0m\u001b[0;34m\u001b[0m\u001b[0m\n",
      "\u001b[0;31mValueError\u001b[0m: I/O operation on closed file"
     ]
    }
   ],
   "source": [
    "#생성된 pivot\n",
    "with pd.ExcelWriter('서울연고지점.xlsx', engine='openpyxl', mode='a') as writer:\n",
    "    J_piv.to_excel(writer,sheet_name='신세계경기')\n",
    "    K_piv.to_excel(writer,sheet_name='신세계센텀')\n",
    "    L_piv.to_excel(writer,sheet_name='신세계의정부')\n",
    "    I_piv.to_excel(writer,sheet_name='AK town')\n",
    "    #H_piv.to_excel(writer,sheet_name='현대킨텍스')\n",
    "    #F_piv.to_excel(writer,sheet_name='현대중동')\n",
    "    #C_piv.to_excel(writer,sheet_name='현대충청')\n",
    "    #X_piv.to_excel(writer,sheet_name='신세계강남')\n",
    "    #Z_piv.to_excel(writer,sheet_name='현대디큐브')\n",
    "    #A_piv.to_excel(writer,sheet_name='현대목동')\n",
    "    #B_piv.to_excel(writer,sheet_name='현대본점')\n",
    "    #G_piv.to_excel(writer,sheet_name='현대천호')\n",
    "    #Y_piv.to_excel(writer, sheet_name='서울숲')\n",
    "    #M_piv.to_excel(writer, sheet_name='신세계충청')\n",
    "writer.close()\n"
   ]
  },
  {
   "cell_type": "code",
   "execution_count": 10,
   "metadata": {
    "colab": {
     "base_uri": "https://localhost:8080/"
    },
    "id": "mAEIlffPZf5b",
    "outputId": "9e0832ad-3a9e-4e54-8327-b45a03268543"
   },
   "outputs": [],
   "source": [
    "\n",
    "#데이터셋 로드 및 설명\n",
    "data = pd.read_csv('경기날씨.csv')\n",
    "data2 = pd.read_excel('서울연고지점.xlsx')\n"
   ]
  },
  {
   "cell_type": "code",
   "execution_count": 11,
   "metadata": {},
   "outputs": [],
   "source": [
    "X =pd.DataFrame(data, columns=['day','avgtemp','hightemp','avgwind'])\n",
    "y = pd.DataFrame(data2, columns=['순매출'])"
   ]
  },
  {
   "cell_type": "code",
   "execution_count": 12,
   "metadata": {},
   "outputs": [
    {
     "data": {
      "text/html": [
       "<div>\n",
       "<style scoped>\n",
       "    .dataframe tbody tr th:only-of-type {\n",
       "        vertical-align: middle;\n",
       "    }\n",
       "\n",
       "    .dataframe tbody tr th {\n",
       "        vertical-align: top;\n",
       "    }\n",
       "\n",
       "    .dataframe thead th {\n",
       "        text-align: right;\n",
       "    }\n",
       "</style>\n",
       "<table border=\"1\" class=\"dataframe\">\n",
       "  <thead>\n",
       "    <tr style=\"text-align: right;\">\n",
       "      <th></th>\n",
       "      <th>순매출</th>\n",
       "    </tr>\n",
       "  </thead>\n",
       "  <tbody>\n",
       "    <tr>\n",
       "      <th>0</th>\n",
       "      <td>241365</td>\n",
       "    </tr>\n",
       "    <tr>\n",
       "      <th>1</th>\n",
       "      <td>283182</td>\n",
       "    </tr>\n",
       "    <tr>\n",
       "      <th>2</th>\n",
       "      <td>440907</td>\n",
       "    </tr>\n",
       "    <tr>\n",
       "      <th>3</th>\n",
       "      <td>862544</td>\n",
       "    </tr>\n",
       "    <tr>\n",
       "      <th>4</th>\n",
       "      <td>771908</td>\n",
       "    </tr>\n",
       "    <tr>\n",
       "      <th>...</th>\n",
       "      <td>...</td>\n",
       "    </tr>\n",
       "    <tr>\n",
       "      <th>143</th>\n",
       "      <td>0</td>\n",
       "    </tr>\n",
       "    <tr>\n",
       "      <th>144</th>\n",
       "      <td>0</td>\n",
       "    </tr>\n",
       "    <tr>\n",
       "      <th>145</th>\n",
       "      <td>0</td>\n",
       "    </tr>\n",
       "    <tr>\n",
       "      <th>146</th>\n",
       "      <td>0</td>\n",
       "    </tr>\n",
       "    <tr>\n",
       "      <th>147</th>\n",
       "      <td>0</td>\n",
       "    </tr>\n",
       "  </tbody>\n",
       "</table>\n",
       "<p>148 rows × 1 columns</p>\n",
       "</div>"
      ],
      "text/plain": [
       "        순매출\n",
       "0    241365\n",
       "1    283182\n",
       "2    440907\n",
       "3    862544\n",
       "4    771908\n",
       "..      ...\n",
       "143       0\n",
       "144       0\n",
       "145       0\n",
       "146       0\n",
       "147       0\n",
       "\n",
       "[148 rows x 1 columns]"
      ]
     },
     "execution_count": 12,
     "metadata": {},
     "output_type": "execute_result"
    }
   ],
   "source": [
    "y"
   ]
  },
  {
   "cell_type": "code",
   "execution_count": 13,
   "metadata": {
    "colab": {
     "base_uri": "https://localhost:8080/"
    },
    "id": "ENv3IuNJZscE",
    "outputId": "bdd6b2ab-c5e2-4550-9157-2fbf39e914c2"
   },
   "outputs": [
    {
     "data": {
      "text/plain": [
       "\"\\nSEOUL= pd.DataFrame(data, columns=['day','hightemp','avgrain','avgwind'])\\nGN = pd.DataFrame(X_piv, columns=['netprofit'])\\nDQ = pd.DataFrame(Z_piv, columns=['netprofit'])\\nMD = pd.DataFrame(A_piv, columns=['netprofit'])\\nBJ = pd.DataFrame(B_piv, columns=['netprofit'])\\nCH = pd.DataFrame(G_piv, columns=['netprofit'])\\n\""
      ]
     },
     "execution_count": 13,
     "metadata": {},
     "output_type": "execute_result"
    }
   ],
   "source": [
    "'''\n",
    "SEOUL= pd.DataFrame(data, columns=['day','hightemp','avgrain','avgwind'])\n",
    "GN = pd.DataFrame(X_piv, columns=['netprofit'])\n",
    "DQ = pd.DataFrame(Z_piv, columns=['netprofit'])\n",
    "MD = pd.DataFrame(A_piv, columns=['netprofit'])\n",
    "BJ = pd.DataFrame(B_piv, columns=['netprofit'])\n",
    "CH = pd.DataFrame(G_piv, columns=['netprofit'])\n",
    "'''"
   ]
  },
  {
   "cell_type": "code",
   "execution_count": 14,
   "metadata": {
    "colab": {
     "base_uri": "https://localhost:8080/"
    },
    "id": "ozr9r-h2aO-g",
    "outputId": "add62170-90d9-4291-b20f-a1c539b8d73e"
   },
   "outputs": [
    {
     "name": "stdout",
     "output_type": "stream",
     "text": [
      "Train set dimension is (83, 4)\n",
      "Test set dimension is (65, 4)\n"
     ]
    }
   ],
   "source": [
    "#Train/Test 데이터 분리\n",
    "# Training 데이터 70%/ Testing 데이터 30% 나누기 \n",
    "\n",
    "#Train set/ Test set 나누기 \n",
    "X_train, X_test, y_train, y_test= train_test_split(X, y, test_size=0.439, random_state=2021)\n",
    "\n",
    "#데이터 컬럼 단위 정규화 하기 \n",
    "normalizer = StandardScaler()\n",
    "X_train = normalizer.fit_transform(X_train)\n",
    "X_test = normalizer.transform(X_test)\n",
    "\n",
    "print(f'Train set dimension is {X_train.shape}')\n",
    "print(f'Test set dimension is {X_test.shape}')"
   ]
  },
  {
   "cell_type": "code",
   "execution_count": 176,
   "metadata": {
    "colab": {
     "base_uri": "https://localhost:8080/"
    },
    "id": "mrPSBBtAnMzo",
    "outputId": "71f377b8-3371-494b-f9e2-1b504eaceb2b"
   },
   "outputs": [
    {
     "data": {
      "text/plain": [
       "RandomForestClassifier(n_estimators=10, random_state=2021)"
      ]
     },
     "execution_count": 176,
     "metadata": {},
     "output_type": "execute_result"
    }
   ],
   "source": [
    "#모델링 (하이퍼파라미터 결정)\n",
    "\n",
    "#4.1 단순 모델링(사용자가 하이퍼 파라미터 정의)\n",
    "\n",
    "rfc = RandomForestClassifier(n_estimators=10,random_state=2021)\n",
    "rfc.fit(X_train, y_train)"
   ]
  },
  {
   "cell_type": "code",
   "execution_count": 177,
   "metadata": {
    "colab": {
     "base_uri": "https://localhost:8080/"
    },
    "id": "0qZhBRWBnxpW",
    "outputId": "ab0bc3a4-fd66-48d2-9800-2a6f3b3bf59d"
   },
   "outputs": [
    {
     "name": "stdout",
     "output_type": "stream",
     "text": [
      "Train set에 대한 성능\n",
      "정확도:1.0000\n",
      "\n",
      "\n",
      "Test set에 대한 성능\n",
      "정확도:0.4000\n"
     ]
    }
   ],
   "source": [
    "#Train set에 대한 성능 \n",
    "y_pred = rfc.predict(X_train)\n",
    "acc = accuracy_score(y_true = y_train, y_pred = y_pred)\n",
    "print(\"Train set에 대한 성능\")\n",
    "print(f\"정확도:{acc:0.4f}\")\n",
    "\n",
    "#Test set에 대한 성능 \n",
    "y_pred = rfc.predict(X_test) \n",
    "acc = accuracy_score(y_true = y_test, y_pred = y_pred)\n",
    "print(\"\\n\")\n",
    "print(\"Test set에 대한 성능\")\n",
    "print(f\"정확도:{acc:0.4f}\")"
   ]
  },
  {
   "cell_type": "code",
   "execution_count": 178,
   "metadata": {
    "colab": {
     "base_uri": "https://localhost:8080/",
     "height": 690
    },
    "id": "E67ZtXwoolNE",
    "outputId": "d182c9a1-f37e-4134-97cb-99f8e651a885"
   },
   "outputs": [
    {
     "name": "stderr",
     "output_type": "stream",
     "text": [
      "100%|██████████| 50/50 [00:10<00:00,  4.92it/s]\n"
     ]
    },
    {
     "data": {
      "image/png": "[encoded data removed]",
      "text/plain": [
       "<Figure size 1440x720 with 1 Axes>"
      ]
     },
     "metadata": {
      "needs_background": "light"
     },
     "output_type": "display_data"
    }
   ],
   "source": [
    "#단일 하이퍼 파라미터에 대한 Grid search \n",
    "\n",
    "cv_scores = []\n",
    "estimator_list = [i for i in range(0,50,1)]\n",
    "for i in tqdm(range(0,50,1)):\n",
    "  rfc = RandomForestClassifier(n_estimators=i+1,\n",
    "                               n_jobs=-1,\n",
    "                               random_state=2021\n",
    "                              )\n",
    "  score = cross_val_score(rfc, X_train, y_train, cv=10, scoring = 'accuracy').mean()\n",
    "  cv_scores.append(score)\n",
    "\n",
    "best_e = [estimator_list[i] for i in range(len(cv_scores)) if cv_scores[i] == np.max(cv_scores)] \n",
    "plt.figure(figsize=(20,10))\n",
    "plt.legend([\"Cross validation scores\"], fontsize=20)\n",
    "plt.plot(estimator_list, cv_scores, marker='o', linestyle='dashed')\n",
    "plt.xlabel(\"the number of trees\", fontsize=20)\n",
    "plt.ylabel(\"Accuracy\", fontsize=20)\n",
    "plt.title(\"Accuracy Score\", fontsize=25)\n",
    "plt.axvline(best_e[0], color='r', linestyle='--', linewidth=2)\n",
    "plt.show()\n"
   ]
  },
  {
   "cell_type": "code",
   "execution_count": 179,
   "metadata": {
    "colab": {
     "base_uri": "https://localhost:8080/"
    },
    "id": "tBLI38jtqlCI",
    "outputId": "26aa3eed-d930-4209-b003-80ef79b7bb3e"
   },
   "outputs": [
    {
     "name": "stdout",
     "output_type": "stream",
     "text": [
      "최적의 tree개수:2\n",
      "\n",
      "\n",
      "Train set에 대한 성능 (10 fold cross validation)\n",
      "정확도:0.4722\n"
     ]
    }
   ],
   "source": [
    "print(f\"최적의 tree개수:{(cv_scores.index(max(cv_scores)))+1}\")\n",
    "print(\"\\n\")\n",
    "print(\"Train set에 대한 성능 (10 fold cross validation)\")\n",
    "print(f\"정확도:{max(cv_scores):0.4f}\")"
   ]
  },
  {
   "cell_type": "code",
   "execution_count": 180,
   "metadata": {
    "colab": {
     "base_uri": "https://localhost:8080/"
    },
    "id": "wPGsWh-UrrQP",
    "outputId": "9be79f2d-adee-4e59-97a7-ba6688661051"
   },
   "outputs": [
    {
     "name": "stdout",
     "output_type": "stream",
     "text": [
      "Train set에 대한 성능\n",
      "정확도:1.0000\n",
      "\n",
      "\n",
      "Test set에 대한 성능\n",
      "정확도:0.4000\n"
     ]
    }
   ],
   "source": [
    "rfc = RandomForestClassifier(n_estimators=37, n_jobs=-1, random_state=2021)\n",
    "rfc.fit(X_train, y_train)\n",
    "\n",
    "#Train set에 대한 성능 \n",
    "y_pred = rfc.predict(X_train)\n",
    "acc = accuracy_score(y_true = y_train, y_pred = y_pred)\n",
    "print(\"Train set에 대한 성능\")\n",
    "print(f\"정확도:{acc:0.4f}\")\n",
    "\n",
    "#Test set에 대한 성능 \n",
    "y_pred = rfc.predict(X_test) \n",
    "acc = accuracy_score(y_true = y_test, y_pred = y_pred)\n",
    "print(\"\\n\")\n",
    "print(\"Test set에 대한 성능\")\n",
    "print(f\"정확도:{acc:0.4f}\")\n"
   ]
  },
  {
   "cell_type": "code",
   "execution_count": 181,
   "metadata": {},
   "outputs": [
    {
     "name": "stdout",
     "output_type": "stream",
     "text": [
      "MSE : 53360005044.06154\n"
     ]
    }
   ],
   "source": [
    "print(\"MSE :\", mean_squared_error(y_test, y_pred))"
   ]
  },
  {
   "cell_type": "code",
   "execution_count": 182,
   "metadata": {},
   "outputs": [],
   "source": [
    "import pandas as pd \n",
    "import csv\n",
    "\n",
    "rf_data=pd.DataFrame(y_pred)\n",
    "\n",
    "rf_data\n",
    "\n",
    "\n",
    "rf_data.to_csv('rfaktown.csv', index=False)\n"
   ]
  },
  {
   "cell_type": "code",
   "execution_count": 20,
   "metadata": {
    "colab": {
     "base_uri": "https://localhost:8080/"
    },
    "id": "afj724yq8Pmt",
    "outputId": "b0aad12c-d2b3-4a70-cec9-32fc97eccc2c"
   },
   "outputs": [
    {
     "name": "stdout",
     "output_type": "stream",
     "text": [
      "Fitting 10 folds for each of 24 candidates, totalling 240 fits\n",
      "Random Forest Regressor\n",
      "R2 score:0.8674  |. MSE37334352447.1635  |. MAE105055.7832\n"
     ]
    }
   ],
   "source": [
    "\n",
    "X_train, X_test, y_train, y_test = train_test_split(X, y, test_size=0.295, random_state=1000)\n",
    "\n",
    "# Random Forest Regressor \n",
    "rfr = RandomForestRegressor(random_state=1000)\n",
    "param_grid = {\n",
    "    'max_depth': [10, 50, 100, 200],\n",
    "    'max_leaf_nodes': [50, 100, 200],\n",
    "    'criterion':['mae', 'mse']\n",
    "}\n",
    "\n",
    "CV_rfr = GridSearchCV(estimator=rfr, param_grid=param_grid, cv=10, verbose=1, n_jobs=12, scoring='r2')\n",
    "CV_rfr.fit(X_train, y_train)\n",
    "\n",
    "best_rfr = CV_rfr.best_estimator_ \n",
    "best_rfr.fit(X_train, y_train)\n",
    "\n",
    "y_pred = best_rfr.predict(X_test)\n",
    "\n",
    "r2score = r2_score(y_true = y_test, y_pred = y_pred) ##R-squared score \n",
    "mse = mean_squared_error(y_true = y_test, y_pred =y_pred) ## MSE (Mean Squared Error)\n",
    "mae = mean_absolute_error(y_true = y_test, y_pred =y_pred) ## MAE (Mean Absolute Error)\n",
    "\n",
    "print('Random Forest Regressor')\n",
    "print(f\"R2 score:{r2score:0.4f}\", f\"MSE{mse:0.4f}\", f\"MAE{mae:0.4f}\", sep = '  |. ')"
   ]
  },
  {
   "cell_type": "code",
   "execution_count": 22,
   "metadata": {},
   "outputs": [
    {
     "data": {
      "text/html": [
       "<div>\n",
       "<style scoped>\n",
       "    .dataframe tbody tr th:only-of-type {\n",
       "        vertical-align: middle;\n",
       "    }\n",
       "\n",
       "    .dataframe tbody tr th {\n",
       "        vertical-align: top;\n",
       "    }\n",
       "\n",
       "    .dataframe thead th {\n",
       "        text-align: right;\n",
       "    }\n",
       "</style>\n",
       "<table border=\"1\" class=\"dataframe\">\n",
       "  <thead>\n",
       "    <tr style=\"text-align: right;\">\n",
       "      <th></th>\n",
       "      <th>순매출</th>\n",
       "    </tr>\n",
       "  </thead>\n",
       "  <tbody>\n",
       "    <tr>\n",
       "      <th>0</th>\n",
       "      <td>771091</td>\n",
       "    </tr>\n",
       "    <tr>\n",
       "      <th>1</th>\n",
       "      <td>1099276</td>\n",
       "    </tr>\n",
       "    <tr>\n",
       "      <th>2</th>\n",
       "      <td>1115094</td>\n",
       "    </tr>\n",
       "    <tr>\n",
       "      <th>3</th>\n",
       "      <td>1654103</td>\n",
       "    </tr>\n",
       "    <tr>\n",
       "      <th>4</th>\n",
       "      <td>1365913</td>\n",
       "    </tr>\n",
       "    <tr>\n",
       "      <th>...</th>\n",
       "      <td>...</td>\n",
       "    </tr>\n",
       "    <tr>\n",
       "      <th>142</th>\n",
       "      <td>0</td>\n",
       "    </tr>\n",
       "    <tr>\n",
       "      <th>143</th>\n",
       "      <td>0</td>\n",
       "    </tr>\n",
       "    <tr>\n",
       "      <th>144</th>\n",
       "      <td>0</td>\n",
       "    </tr>\n",
       "    <tr>\n",
       "      <th>145</th>\n",
       "      <td>0</td>\n",
       "    </tr>\n",
       "    <tr>\n",
       "      <th>146</th>\n",
       "      <td>0</td>\n",
       "    </tr>\n",
       "  </tbody>\n",
       "</table>\n",
       "<p>147 rows × 1 columns</p>\n",
       "</div>"
      ],
      "text/plain": [
       "         순매출\n",
       "0     771091\n",
       "1    1099276\n",
       "2    1115094\n",
       "3    1654103\n",
       "4    1365913\n",
       "..       ...\n",
       "142        0\n",
       "143        0\n",
       "144        0\n",
       "145        0\n",
       "146        0\n",
       "\n",
       "[147 rows x 1 columns]"
      ]
     },
     "execution_count": 22,
     "metadata": {},
     "output_type": "execute_result"
    }
   ],
   "source": [
    "y"
   ]
  },
  {
   "cell_type": "code",
   "execution_count": null,
   "metadata": {},
   "outputs": [],
   "source": []
  },
  {
   "cell_type": "code",
   "execution_count": null,
   "metadata": {},
   "outputs": [],
   "source": []
  },
  {
   "cell_type": "code",
   "execution_count": null,
   "metadata": {},
   "outputs": [],
   "source": []
  }
 ],
 "metadata": {
  "colab": {
   "collapsed_sections": [],
   "name": "random.forest.ipynb",
   "provenance": []
  },
  "kernelspec": {
   "display_name": "Python 3",
   "language": "python",
   "name": "python3"
  },
  "language_info": {
   "codemirror_mode": {
    "name": "ipython",
    "version": 3
   },
   "file_extension": ".py",
   "mimetype": "text/x-python",
   "name": "python",
   "nbconvert_exporter": "python",
   "pygments_lexer": "ipython3",
   "version": "3.8.8"
  }
 },
 "nbformat": 4,
 "nbformat_minor": 1
}
