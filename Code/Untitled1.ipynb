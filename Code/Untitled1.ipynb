{
 "cells": [
  {
   "cell_type": "code",
   "execution_count": 1,
   "id": "7bd0d5ed",
   "metadata": {},
   "outputs": [],
   "source": [
    "import pandas as pd \n",
    "import matplotlib.pyplot as plt \n",
    "import numpy as np"
   ]
  },
  {
   "cell_type": "code",
   "execution_count": null,
   "id": "1f3f782d",
   "metadata": {},
   "outputs": [],
   "source": [
    "data = pd.read_excel('주문 시간별(메뉴별)_갤러리아압구정.xlsx',names=['a','b','c','주문일자','주문시간','반품일시','상품분류','상품코드','상품명','상품단가','주문건수','폐기건수','주문금액','할인금액','실매출합계','부가세액','순매출','기타금액','총합계','결제수단'])\n"
   ]
  }
 ],
 "metadata": {
  "kernelspec": {
   "display_name": "Python 3 (ipykernel)",
   "language": "python",
   "name": "python3"
  },
  "language_info": {
   "codemirror_mode": {
    "name": "ipython",
    "version": 3
   },
   "file_extension": ".py",
   "mimetype": "text/x-python",
   "name": "python",
   "nbconvert_exporter": "python",
   "pygments_lexer": "ipython3",
   "version": "3.8.11"
  }
 },
 "nbformat": 4,
 "nbformat_minor": 5
}
